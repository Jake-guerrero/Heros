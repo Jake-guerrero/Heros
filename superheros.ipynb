{
 "cells": [
  {
   "cell_type": "code",
   "execution_count": 1,
   "metadata": {},
   "outputs": [],
   "source": [
    "import pandas as pd\n",
    "import numpy as np\n",
    "import matplotlib.pyplot as plt"
   ]
  },
  {
   "cell_type": "code",
   "execution_count": 2,
   "metadata": {},
   "outputs": [
    {
     "data": {
      "text/html": [
       "<div>\n",
       "<style scoped>\n",
       "    .dataframe tbody tr th:only-of-type {\n",
       "        vertical-align: middle;\n",
       "    }\n",
       "\n",
       "    .dataframe tbody tr th {\n",
       "        vertical-align: top;\n",
       "    }\n",
       "\n",
       "    .dataframe thead th {\n",
       "        text-align: right;\n",
       "    }\n",
       "</style>\n",
       "<table border=\"1\" class=\"dataframe\">\n",
       "  <thead>\n",
       "    <tr style=\"text-align: right;\">\n",
       "      <th></th>\n",
       "      <th>Unnamed: 0</th>\n",
       "      <th>name</th>\n",
       "      <th>Gender</th>\n",
       "      <th>Eye color</th>\n",
       "      <th>Race</th>\n",
       "      <th>Hair color</th>\n",
       "      <th>Height</th>\n",
       "      <th>Publisher</th>\n",
       "      <th>Skin color</th>\n",
       "      <th>Alignment</th>\n",
       "      <th>Weight</th>\n",
       "    </tr>\n",
       "  </thead>\n",
       "  <tbody>\n",
       "    <tr>\n",
       "      <th>0</th>\n",
       "      <td>0</td>\n",
       "      <td>A-Bomb</td>\n",
       "      <td>Male</td>\n",
       "      <td>yellow</td>\n",
       "      <td>Human</td>\n",
       "      <td>No Hair</td>\n",
       "      <td>203.0</td>\n",
       "      <td>Marvel Comics</td>\n",
       "      <td>-</td>\n",
       "      <td>good</td>\n",
       "      <td>441.0</td>\n",
       "    </tr>\n",
       "    <tr>\n",
       "      <th>1</th>\n",
       "      <td>1</td>\n",
       "      <td>Abe Sapien</td>\n",
       "      <td>Male</td>\n",
       "      <td>blue</td>\n",
       "      <td>Icthyo Sapien</td>\n",
       "      <td>No Hair</td>\n",
       "      <td>191.0</td>\n",
       "      <td>Dark Horse Comics</td>\n",
       "      <td>blue</td>\n",
       "      <td>good</td>\n",
       "      <td>65.0</td>\n",
       "    </tr>\n",
       "    <tr>\n",
       "      <th>2</th>\n",
       "      <td>2</td>\n",
       "      <td>Abin Sur</td>\n",
       "      <td>Male</td>\n",
       "      <td>blue</td>\n",
       "      <td>Ungaran</td>\n",
       "      <td>No Hair</td>\n",
       "      <td>185.0</td>\n",
       "      <td>DC Comics</td>\n",
       "      <td>red</td>\n",
       "      <td>good</td>\n",
       "      <td>90.0</td>\n",
       "    </tr>\n",
       "    <tr>\n",
       "      <th>3</th>\n",
       "      <td>3</td>\n",
       "      <td>Abomination</td>\n",
       "      <td>Male</td>\n",
       "      <td>green</td>\n",
       "      <td>Human / Radiation</td>\n",
       "      <td>No Hair</td>\n",
       "      <td>203.0</td>\n",
       "      <td>Marvel Comics</td>\n",
       "      <td>-</td>\n",
       "      <td>bad</td>\n",
       "      <td>441.0</td>\n",
       "    </tr>\n",
       "    <tr>\n",
       "      <th>4</th>\n",
       "      <td>4</td>\n",
       "      <td>Abraxas</td>\n",
       "      <td>Male</td>\n",
       "      <td>blue</td>\n",
       "      <td>Cosmic Entity</td>\n",
       "      <td>Black</td>\n",
       "      <td>-99.0</td>\n",
       "      <td>Marvel Comics</td>\n",
       "      <td>-</td>\n",
       "      <td>bad</td>\n",
       "      <td>-99.0</td>\n",
       "    </tr>\n",
       "    <tr>\n",
       "      <th>...</th>\n",
       "      <td>...</td>\n",
       "      <td>...</td>\n",
       "      <td>...</td>\n",
       "      <td>...</td>\n",
       "      <td>...</td>\n",
       "      <td>...</td>\n",
       "      <td>...</td>\n",
       "      <td>...</td>\n",
       "      <td>...</td>\n",
       "      <td>...</td>\n",
       "      <td>...</td>\n",
       "    </tr>\n",
       "    <tr>\n",
       "      <th>729</th>\n",
       "      <td>729</td>\n",
       "      <td>Yellowjacket II</td>\n",
       "      <td>Female</td>\n",
       "      <td>blue</td>\n",
       "      <td>Human</td>\n",
       "      <td>Strawberry Blond</td>\n",
       "      <td>165.0</td>\n",
       "      <td>Marvel Comics</td>\n",
       "      <td>-</td>\n",
       "      <td>good</td>\n",
       "      <td>52.0</td>\n",
       "    </tr>\n",
       "    <tr>\n",
       "      <th>730</th>\n",
       "      <td>730</td>\n",
       "      <td>Ymir</td>\n",
       "      <td>Male</td>\n",
       "      <td>white</td>\n",
       "      <td>Frost Giant</td>\n",
       "      <td>No Hair</td>\n",
       "      <td>304.8</td>\n",
       "      <td>Marvel Comics</td>\n",
       "      <td>white</td>\n",
       "      <td>good</td>\n",
       "      <td>-99.0</td>\n",
       "    </tr>\n",
       "    <tr>\n",
       "      <th>731</th>\n",
       "      <td>731</td>\n",
       "      <td>Yoda</td>\n",
       "      <td>Male</td>\n",
       "      <td>brown</td>\n",
       "      <td>Yoda's species</td>\n",
       "      <td>White</td>\n",
       "      <td>66.0</td>\n",
       "      <td>George Lucas</td>\n",
       "      <td>green</td>\n",
       "      <td>good</td>\n",
       "      <td>17.0</td>\n",
       "    </tr>\n",
       "    <tr>\n",
       "      <th>732</th>\n",
       "      <td>732</td>\n",
       "      <td>Zatanna</td>\n",
       "      <td>Female</td>\n",
       "      <td>blue</td>\n",
       "      <td>Human</td>\n",
       "      <td>Black</td>\n",
       "      <td>170.0</td>\n",
       "      <td>DC Comics</td>\n",
       "      <td>-</td>\n",
       "      <td>good</td>\n",
       "      <td>57.0</td>\n",
       "    </tr>\n",
       "    <tr>\n",
       "      <th>733</th>\n",
       "      <td>733</td>\n",
       "      <td>Zoom</td>\n",
       "      <td>Male</td>\n",
       "      <td>red</td>\n",
       "      <td>-</td>\n",
       "      <td>Brown</td>\n",
       "      <td>185.0</td>\n",
       "      <td>DC Comics</td>\n",
       "      <td>-</td>\n",
       "      <td>bad</td>\n",
       "      <td>81.0</td>\n",
       "    </tr>\n",
       "  </tbody>\n",
       "</table>\n",
       "<p>734 rows × 11 columns</p>\n",
       "</div>"
      ],
      "text/plain": [
       "     Unnamed: 0             name  Gender Eye color               Race  \\\n",
       "0             0           A-Bomb    Male    yellow              Human   \n",
       "1             1       Abe Sapien    Male      blue      Icthyo Sapien   \n",
       "2             2         Abin Sur    Male      blue            Ungaran   \n",
       "3             3      Abomination    Male     green  Human / Radiation   \n",
       "4             4          Abraxas    Male      blue      Cosmic Entity   \n",
       "..          ...              ...     ...       ...                ...   \n",
       "729         729  Yellowjacket II  Female      blue              Human   \n",
       "730         730             Ymir    Male     white        Frost Giant   \n",
       "731         731             Yoda    Male     brown     Yoda's species   \n",
       "732         732          Zatanna  Female      blue              Human   \n",
       "733         733             Zoom    Male       red                  -   \n",
       "\n",
       "           Hair color  Height          Publisher Skin color Alignment  Weight  \n",
       "0             No Hair   203.0      Marvel Comics          -      good   441.0  \n",
       "1             No Hair   191.0  Dark Horse Comics       blue      good    65.0  \n",
       "2             No Hair   185.0          DC Comics        red      good    90.0  \n",
       "3             No Hair   203.0      Marvel Comics          -       bad   441.0  \n",
       "4               Black   -99.0      Marvel Comics          -       bad   -99.0  \n",
       "..                ...     ...                ...        ...       ...     ...  \n",
       "729  Strawberry Blond   165.0      Marvel Comics          -      good    52.0  \n",
       "730           No Hair   304.8      Marvel Comics      white      good   -99.0  \n",
       "731             White    66.0       George Lucas      green      good    17.0  \n",
       "732             Black   170.0          DC Comics          -      good    57.0  \n",
       "733             Brown   185.0          DC Comics          -       bad    81.0  \n",
       "\n",
       "[734 rows x 11 columns]"
      ]
     },
     "execution_count": 2,
     "metadata": {},
     "output_type": "execute_result"
    }
   ],
   "source": [
    "heros = pd.read_csv('heroes_information.csv')\n",
    "heros"
   ]
  },
  {
   "cell_type": "code",
   "execution_count": 3,
   "metadata": {},
   "outputs": [
    {
     "name": "stdout",
     "output_type": "stream",
     "text": [
      "Average Height: 102.25\n"
     ]
    }
   ],
   "source": [
    "height = heros['Height'].sum()\n",
    "count = heros['Height'].count()\n",
    "average_height = height / count\n",
    "round_average_height = round(average_height, 2)\n",
    "print(\"Average Height:\", round_average_height)"
   ]
  },
  {
   "cell_type": "code",
   "execution_count": 4,
   "metadata": {},
   "outputs": [
    {
     "name": "stdout",
     "output_type": "stream",
     "text": [
      "Number of heroes per publisher:\\, Publisher\n",
      "Marvel Comics        388\n",
      "DC Comics            215\n",
      "NBC - Heroes          19\n",
      "Dark Horse Comics     18\n",
      "George Lucas          14\n",
      "Image Comics          14\n",
      "Star Trek              6\n",
      "HarperCollins          6\n",
      "SyFy                   5\n",
      "Team Epic TV           5\n",
      "Icon Comics            4\n",
      "ABC Studios            4\n",
      "IDW Publishing         4\n",
      "Shueisha               4\n",
      "Wildstorm              3\n",
      "Sony Pictures          2\n",
      "Hanna-Barbera          1\n",
      "South Park             1\n",
      "Universal Studios      1\n",
      "J. K. Rowling          1\n",
      "Titan Books            1\n",
      "Rebellion              1\n",
      "Microsoft              1\n",
      "J. R. R. Tolkien       1\n",
      "Name: count, dtype: int64\n"
     ]
    },
    {
     "name": "stderr",
     "output_type": "stream",
     "text": [
      "<>:3: SyntaxWarning: invalid escape sequence '\\,'\n",
      "<>:3: SyntaxWarning: invalid escape sequence '\\,'\n",
      "C:\\Users\\Jake Guerrero\\AppData\\Local\\Temp\\ipykernel_19432\\2041268079.py:3: SyntaxWarning: invalid escape sequence '\\,'\n",
      "  print(\"Number of heroes per publisher:\\,\", publisher_count)\n"
     ]
    }
   ],
   "source": [
    "publisher_count = heros['Publisher'].value_counts()\n",
    "\n",
    "print(\"Number of heroes per publisher:\\,\", publisher_count)"
   ]
  },
  {
   "cell_type": "code",
   "execution_count": 5,
   "metadata": {},
   "outputs": [
    {
     "name": "stdout",
     "output_type": "stream",
     "text": [
      "Unique races: ['Human' 'Icthyo Sapien' 'Ungaran' 'Human / Radiation' 'Cosmic Entity' '-'\n",
      " 'Cyborg' 'Xenomorph XX121' 'Android' 'Vampire' 'Mutant' 'God / Eternal'\n",
      " 'Symbiote' 'Atlantean' 'Alien' 'Neyaphem' 'New God' 'Alpha' 'Bizarro'\n",
      " 'Inhuman' 'Metahuman' 'Demon' 'Human / Clone' 'Human-Kree'\n",
      " 'Dathomirian Zabrak' 'Amazon' 'Human / Cosmic' 'Human / Altered'\n",
      " 'Kryptonian' 'Kakarantharaian' 'Zen-Whoberian' 'Strontian' 'Kaiju'\n",
      " 'Saiyan' 'Gorilla' 'Rodian' 'Flora Colossus' 'Human-Vuldarian'\n",
      " 'Asgardian' 'Demi-God' 'Eternal' 'Gungan' 'Bolovaxian' 'Animal'\n",
      " 'Czarnian' 'Martian' 'Spartoi' 'Planet' 'Luphomoid' 'Parademon' 'Yautja'\n",
      " 'Maiar' 'Clone' 'Talokite' 'Korugaran' 'Zombie' 'Human-Vulcan'\n",
      " 'Human-Spartoi' 'Tamaranean' 'Frost Giant' 'Mutant / Clone'\n",
      " \"Yoda's species\"]\n"
     ]
    }
   ],
   "source": [
    "unique_races = heros['Race'].unique()\n",
    "\n",
    "print(\"Unique races:\", unique_races)"
   ]
  },
  {
   "cell_type": "code",
   "execution_count": 6,
   "metadata": {},
   "outputs": [
    {
     "name": "stdout",
     "output_type": "stream",
     "text": [
      "Total number of unique races: 62\n"
     ]
    }
   ],
   "source": [
    "total_unique_races = heros['Race'].nunique()\n",
    "print(\"Total number of unique races:\", total_unique_races)"
   ]
  },
  {
   "cell_type": "code",
   "execution_count": 7,
   "metadata": {},
   "outputs": [
    {
     "name": "stdout",
     "output_type": "stream",
     "text": [
      "The total of individual races: Race\n",
      "-                    304\n",
      "Human                208\n",
      "Mutant                63\n",
      "God / Eternal         14\n",
      "Human / Radiation     11\n",
      "                    ... \n",
      "Gorilla                1\n",
      "Rodian                 1\n",
      "Flora Colossus         1\n",
      "Human-Vuldarian        1\n",
      "Yoda's species         1\n",
      "Name: count, Length: 62, dtype: int64\n"
     ]
    }
   ],
   "source": [
    "race_counts = heros['Race'].value_counts()\n",
    "\n",
    "print(\"The total of individual races:\", race_counts)"
   ]
  },
  {
   "cell_type": "code",
   "execution_count": 8,
   "metadata": {},
   "outputs": [
    {
     "name": "stdout",
     "output_type": "stream",
     "text": [
      "The total of all races in comics are: 734\n"
     ]
    }
   ],
   "source": [
    "total_race_occurances = race_counts.sum()\n",
    "\n",
    "print(\"The total of all races in comics are:\", total_race_occurances)"
   ]
  },
  {
   "cell_type": "code",
   "execution_count": 9,
   "metadata": {},
   "outputs": [
    {
     "name": "stdout",
     "output_type": "stream",
     "text": [
      "Alignment counts:\n",
      "Alignment\n",
      "good       496\n",
      "bad        207\n",
      "neutral     24\n",
      "-            7\n",
      "Name: count, dtype: int64\n"
     ]
    }
   ],
   "source": [
    "alignment_counts = heros['Alignment'].value_counts()\n",
    "\n",
    "print(\"Alignment counts:\")\n",
    "print(alignment_counts)"
   ]
  },
  {
   "cell_type": "code",
   "execution_count": 10,
   "metadata": {},
   "outputs": [
    {
     "name": "stdout",
     "output_type": "stream",
     "text": [
      "Counts of each aligment if the character is either good, bad or neutral:\n",
      "Alignment\n",
      "good       496\n",
      "bad        207\n",
      "neutral     24\n",
      "-            7\n",
      "Name: count, dtype: int64\n"
     ]
    }
   ],
   "source": [
    "counts = heros['Alignment'].value_counts()\n",
    "\n",
    "print(\"Counts of each aligment if the character is either good, bad or neutral:\")\n",
    "print(counts)"
   ]
  },
  {
   "cell_type": "code",
   "execution_count": 11,
   "metadata": {},
   "outputs": [
    {
     "data": {
      "image/png": "[encoded data removed]",
      "text/plain": [
       "<Figure size 1000x600 with 1 Axes>"
      ]
     },
     "metadata": {},
     "output_type": "display_data"
    }
   ],
   "source": [
    "counts = heros['Alignment'].value_counts()\n",
    "\n",
    "plt.figure(figsize=(10, 6))\n",
    "counts.plot(kind='bar', color=['blue', 'green', 'red'])\n",
    "plt.title('Alignment for Comic Book Character')\n",
    "plt.xlabel('Alignment')\n",
    "plt.ylabel('Number of Heros/Villians')\n",
    "plt.xticks(rotation=45)\n",
    "plt.grid(axis='y', linestyle='--', alpha=0.7)\n",
    "plt.tight_layout()\n",
    "plt.show()"
   ]
  },
  {
   "cell_type": "code",
   "execution_count": null,
   "metadata": {},
   "outputs": [],
   "source": []
  }
 ],
 "metadata": {
  "kernelspec": {
   "display_name": "Python 3",
   "language": "python",
   "name": "python3"
  },
  "language_info": {
   "codemirror_mode": {
    "name": "ipython",
    "version": 3
   },
   "file_extension": ".py",
   "mimetype": "text/x-python",
   "name": "python",
   "nbconvert_exporter": "python",
   "pygments_lexer": "ipython3",
   "version": "3.12.2"
  }
 },
 "nbformat": 4,
 "nbformat_minor": 2
}
