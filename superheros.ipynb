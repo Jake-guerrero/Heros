{
 "cells": [
  {
   "cell_type": "markdown",
   "metadata": {},
   "source": [
    "Introduction\n",
    "\n",
    "This analysis will look at one csv of the heros, villians and others among comic books publishers.\n",
    "\n",
    "Here are the areas that will be looked at specifically:\n",
    "\n",
    "1. The characters height\n",
    "2. The characters weight\n",
    "3. The race the character falls into\n",
    "4. The characters affiliation of good or evil\n",
    "5. Which publisher made the character\n",
    "\n",
    "\n",
    "| Height | Weight | Race |\n",
    "|:--------:|:--------:|:--------:|\n",
    "|  How tall the characters are in cm   |  How much the character weighs  |  Where the character falls into what they were born into |\n",
    "\n",
    "| Alignment | Publisher |\n",
    "|:--------:|:--------:|\n",
    "|  If the character is good, evil, or in between  |  The entity responsible for creating the character  |"
   ]
  },
  {
   "cell_type": "markdown",
   "metadata": {},
   "source": [
    "Applying the needed libraries"
   ]
  },
  {
   "cell_type": "code",
   "execution_count": 62,
   "metadata": {},
   "outputs": [],
   "source": [
    "import pandas as pd\n",
    "import numpy as np\n",
    "import matplotlib.pyplot as plt"
   ]
  },
  {
   "cell_type": "markdown",
   "metadata": {},
   "source": [
    "Loading the Data and Looking at the Areas Discussed"
   ]
  },
  {
   "cell_type": "code",
   "execution_count": 63,
   "metadata": {},
   "outputs": [
    {
     "data": {
      "text/html": [
       "<div>\n",
       "<style scoped>\n",
       "    .dataframe tbody tr th:only-of-type {\n",
       "        vertical-align: middle;\n",
       "    }\n",
       "\n",
       "    .dataframe tbody tr th {\n",
       "        vertical-align: top;\n",
       "    }\n",
       "\n",
       "    .dataframe thead th {\n",
       "        text-align: right;\n",
       "    }\n",
       "</style>\n",
       "<table border=\"1\" class=\"dataframe\">\n",
       "  <thead>\n",
       "    <tr style=\"text-align: right;\">\n",
       "      <th></th>\n",
       "      <th>Unnamed: 0</th>\n",
       "      <th>name</th>\n",
       "      <th>Gender</th>\n",
       "      <th>Eye color</th>\n",
       "      <th>Race</th>\n",
       "      <th>Hair color</th>\n",
       "      <th>Height</th>\n",
       "      <th>Publisher</th>\n",
       "      <th>Skin color</th>\n",
       "      <th>Alignment</th>\n",
       "      <th>Weight</th>\n",
       "    </tr>\n",
       "  </thead>\n",
       "  <tbody>\n",
       "    <tr>\n",
       "      <th>0</th>\n",
       "      <td>0</td>\n",
       "      <td>A-Bomb</td>\n",
       "      <td>Male</td>\n",
       "      <td>yellow</td>\n",
       "      <td>Human</td>\n",
       "      <td>No Hair</td>\n",
       "      <td>203.0</td>\n",
       "      <td>Marvel Comics</td>\n",
       "      <td>-</td>\n",
       "      <td>good</td>\n",
       "      <td>441.0</td>\n",
       "    </tr>\n",
       "    <tr>\n",
       "      <th>1</th>\n",
       "      <td>1</td>\n",
       "      <td>Abe Sapien</td>\n",
       "      <td>Male</td>\n",
       "      <td>blue</td>\n",
       "      <td>Icthyo Sapien</td>\n",
       "      <td>No Hair</td>\n",
       "      <td>191.0</td>\n",
       "      <td>Dark Horse Comics</td>\n",
       "      <td>blue</td>\n",
       "      <td>good</td>\n",
       "      <td>65.0</td>\n",
       "    </tr>\n",
       "    <tr>\n",
       "      <th>2</th>\n",
       "      <td>2</td>\n",
       "      <td>Abin Sur</td>\n",
       "      <td>Male</td>\n",
       "      <td>blue</td>\n",
       "      <td>Ungaran</td>\n",
       "      <td>No Hair</td>\n",
       "      <td>185.0</td>\n",
       "      <td>DC Comics</td>\n",
       "      <td>red</td>\n",
       "      <td>good</td>\n",
       "      <td>90.0</td>\n",
       "    </tr>\n",
       "    <tr>\n",
       "      <th>3</th>\n",
       "      <td>3</td>\n",
       "      <td>Abomination</td>\n",
       "      <td>Male</td>\n",
       "      <td>green</td>\n",
       "      <td>Human / Radiation</td>\n",
       "      <td>No Hair</td>\n",
       "      <td>203.0</td>\n",
       "      <td>Marvel Comics</td>\n",
       "      <td>-</td>\n",
       "      <td>bad</td>\n",
       "      <td>441.0</td>\n",
       "    </tr>\n",
       "    <tr>\n",
       "      <th>4</th>\n",
       "      <td>4</td>\n",
       "      <td>Abraxas</td>\n",
       "      <td>Male</td>\n",
       "      <td>blue</td>\n",
       "      <td>Cosmic Entity</td>\n",
       "      <td>Black</td>\n",
       "      <td>-99.0</td>\n",
       "      <td>Marvel Comics</td>\n",
       "      <td>-</td>\n",
       "      <td>bad</td>\n",
       "      <td>-99.0</td>\n",
       "    </tr>\n",
       "    <tr>\n",
       "      <th>...</th>\n",
       "      <td>...</td>\n",
       "      <td>...</td>\n",
       "      <td>...</td>\n",
       "      <td>...</td>\n",
       "      <td>...</td>\n",
       "      <td>...</td>\n",
       "      <td>...</td>\n",
       "      <td>...</td>\n",
       "      <td>...</td>\n",
       "      <td>...</td>\n",
       "      <td>...</td>\n",
       "    </tr>\n",
       "    <tr>\n",
       "      <th>729</th>\n",
       "      <td>729</td>\n",
       "      <td>Yellowjacket II</td>\n",
       "      <td>Female</td>\n",
       "      <td>blue</td>\n",
       "      <td>Human</td>\n",
       "      <td>Strawberry Blond</td>\n",
       "      <td>165.0</td>\n",
       "      <td>Marvel Comics</td>\n",
       "      <td>-</td>\n",
       "      <td>good</td>\n",
       "      <td>52.0</td>\n",
       "    </tr>\n",
       "    <tr>\n",
       "      <th>730</th>\n",
       "      <td>730</td>\n",
       "      <td>Ymir</td>\n",
       "      <td>Male</td>\n",
       "      <td>white</td>\n",
       "      <td>Frost Giant</td>\n",
       "      <td>No Hair</td>\n",
       "      <td>304.8</td>\n",
       "      <td>Marvel Comics</td>\n",
       "      <td>white</td>\n",
       "      <td>good</td>\n",
       "      <td>-99.0</td>\n",
       "    </tr>\n",
       "    <tr>\n",
       "      <th>731</th>\n",
       "      <td>731</td>\n",
       "      <td>Yoda</td>\n",
       "      <td>Male</td>\n",
       "      <td>brown</td>\n",
       "      <td>Yoda's species</td>\n",
       "      <td>White</td>\n",
       "      <td>66.0</td>\n",
       "      <td>George Lucas</td>\n",
       "      <td>green</td>\n",
       "      <td>good</td>\n",
       "      <td>17.0</td>\n",
       "    </tr>\n",
       "    <tr>\n",
       "      <th>732</th>\n",
       "      <td>732</td>\n",
       "      <td>Zatanna</td>\n",
       "      <td>Female</td>\n",
       "      <td>blue</td>\n",
       "      <td>Human</td>\n",
       "      <td>Black</td>\n",
       "      <td>170.0</td>\n",
       "      <td>DC Comics</td>\n",
       "      <td>-</td>\n",
       "      <td>good</td>\n",
       "      <td>57.0</td>\n",
       "    </tr>\n",
       "    <tr>\n",
       "      <th>733</th>\n",
       "      <td>733</td>\n",
       "      <td>Zoom</td>\n",
       "      <td>Male</td>\n",
       "      <td>red</td>\n",
       "      <td>-</td>\n",
       "      <td>Brown</td>\n",
       "      <td>185.0</td>\n",
       "      <td>DC Comics</td>\n",
       "      <td>-</td>\n",
       "      <td>bad</td>\n",
       "      <td>81.0</td>\n",
       "    </tr>\n",
       "  </tbody>\n",
       "</table>\n",
       "<p>734 rows × 11 columns</p>\n",
       "</div>"
      ],
      "text/plain": [
       "     Unnamed: 0             name  Gender Eye color               Race  \\\n",
       "0             0           A-Bomb    Male    yellow              Human   \n",
       "1             1       Abe Sapien    Male      blue      Icthyo Sapien   \n",
       "2             2         Abin Sur    Male      blue            Ungaran   \n",
       "3             3      Abomination    Male     green  Human / Radiation   \n",
       "4             4          Abraxas    Male      blue      Cosmic Entity   \n",
       "..          ...              ...     ...       ...                ...   \n",
       "729         729  Yellowjacket II  Female      blue              Human   \n",
       "730         730             Ymir    Male     white        Frost Giant   \n",
       "731         731             Yoda    Male     brown     Yoda's species   \n",
       "732         732          Zatanna  Female      blue              Human   \n",
       "733         733             Zoom    Male       red                  -   \n",
       "\n",
       "           Hair color  Height          Publisher Skin color Alignment  Weight  \n",
       "0             No Hair   203.0      Marvel Comics          -      good   441.0  \n",
       "1             No Hair   191.0  Dark Horse Comics       blue      good    65.0  \n",
       "2             No Hair   185.0          DC Comics        red      good    90.0  \n",
       "3             No Hair   203.0      Marvel Comics          -       bad   441.0  \n",
       "4               Black   -99.0      Marvel Comics          -       bad   -99.0  \n",
       "..                ...     ...                ...        ...       ...     ...  \n",
       "729  Strawberry Blond   165.0      Marvel Comics          -      good    52.0  \n",
       "730           No Hair   304.8      Marvel Comics      white      good   -99.0  \n",
       "731             White    66.0       George Lucas      green      good    17.0  \n",
       "732             Black   170.0          DC Comics          -      good    57.0  \n",
       "733             Brown   185.0          DC Comics          -       bad    81.0  \n",
       "\n",
       "[734 rows x 11 columns]"
      ]
     },
     "execution_count": 63,
     "metadata": {},
     "output_type": "execute_result"
    }
   ],
   "source": [
    "heros = pd.read_csv('heroes_information.csv')\n",
    "heros"
   ]
  },
  {
   "cell_type": "code",
   "execution_count": 64,
   "metadata": {},
   "outputs": [
    {
     "name": "stdout",
     "output_type": "stream",
     "text": [
      "Average Height: 102.25\n"
     ]
    }
   ],
   "source": [
    "height = heros['Height'].sum()\n",
    "count = heros['Height'].count()\n",
    "average_height = height / count\n",
    "round_average_height = round(average_height, 2)\n",
    "print(\"Average Height:\", round_average_height)"
   ]
  },
  {
   "cell_type": "code",
   "execution_count": 65,
   "metadata": {},
   "outputs": [
    {
     "name": "stdout",
     "output_type": "stream",
     "text": [
      "Characters that are taller than 190 cm:\n",
      "     Unnamed: 0            name  Gender Eye color               Race  \\\n",
      "0             0          A-Bomb    Male    yellow              Human   \n",
      "1             1      Abe Sapien    Male      blue      Icthyo Sapien   \n",
      "3             3     Abomination    Male     green  Human / Radiation   \n",
      "5             5   Absorbing Man    Male      blue              Human   \n",
      "10           10      Agent Zero    Male         -                  -   \n",
      "..          ...             ...     ...       ...                ...   \n",
      "700         700       Vision II       -       red                  -   \n",
      "709         709         Warpath    Male     brown             Mutant   \n",
      "718         718       Wolfsbane  Female     green                  -   \n",
      "724         724  Wyatt Wingfoot    Male     brown                  -   \n",
      "730         730            Ymir    Male     white        Frost Giant   \n",
      "\n",
      "    Hair color  Height          Publisher Skin color Alignment  Weight  \n",
      "0      No Hair   203.0      Marvel Comics          -      good   441.0  \n",
      "1      No Hair   191.0  Dark Horse Comics       blue      good    65.0  \n",
      "3      No Hair   203.0      Marvel Comics          -       bad   441.0  \n",
      "5      No Hair   193.0      Marvel Comics          -       bad   122.0  \n",
      "10           -   191.0      Marvel Comics          -      good   104.0  \n",
      "..         ...     ...                ...        ...       ...     ...  \n",
      "700    No Hair   191.0      Marvel Comics          -      good   135.0  \n",
      "709      Black   218.0      Marvel Comics          -      good   158.0  \n",
      "718     Auburn   366.0      Marvel Comics          -      good   473.0  \n",
      "724      Black   196.0      Marvel Comics          -      good   117.0  \n",
      "730    No Hair   304.8      Marvel Comics      white      good   -99.0  \n",
      "\n",
      "[130 rows x 11 columns]\n"
     ]
    }
   ],
   "source": [
    "greater_height = heros.loc[heros['Height'] > 190]\n",
    "\n",
    "print(\"Characters that are taller than 190 cm:\")\n",
    "print(greater_height)"
   ]
  },
  {
   "cell_type": "code",
   "execution_count": 66,
   "metadata": {},
   "outputs": [
    {
     "name": "stdout",
     "output_type": "stream",
     "text": [
      "Characters that are taller than 190:\n",
      "     Unnamed: 0                name  Gender Eye color               Race  \\\n",
      "0             0              A-Bomb    Male    yellow              Human   \n",
      "3             3         Abomination    Male     green  Human / Radiation   \n",
      "33           33          Anti-Venom    Male      blue           Symbiote   \n",
      "42           42                Ares    Male     brown                  -   \n",
      "78           78       Beta Ray Bill    Male         -                  -   \n",
      "118         118                Blob    Male     brown                  -   \n",
      "119         119            Bloodaxe  Female      blue              Human   \n",
      "184         184            Colossus    Male    silver             Mutant   \n",
      "203         203            Darkseid    Male       red            New God   \n",
      "217         217           Destroyer    Male         -                  -   \n",
      "229         229            Doomsday    Male       red              Alien   \n",
      "233         233  Drax the Destroyer    Male       red    Human / Altered   \n",
      "245         245             Etrigan    Male       red              Demon   \n",
      "283         283             Giganta  Female     green                  -   \n",
      "284         284           Gladiator    Male      blue          Strontian   \n",
      "293         293       Gorilla Grodd    Male    yellow            Gorilla   \n",
      "320         320                Hela  Female     green          Asgardian   \n",
      "331         331                Hulk    Male     green  Human / Radiation   \n",
      "337         337            Hyperion    Male      blue            Eternal   \n",
      "345         345            Iron Man    Male      blue              Human   \n",
      "373         373          Juggernaut    Male      blue              Human   \n",
      "386         386         Killer Croc    Male       red          Metahuman   \n",
      "388         388             Kilowog    Male       red         Bolovaxian   \n",
      "391         391             Kingpin    Male      blue              Human   \n",
      "409         409        Living Brain       -    yellow                  -   \n",
      "412         412              Lizard    Male       red              Human   \n",
      "413         413                Lobo    Male       red           Czarnian   \n",
      "414         414                Loki    Male     green          Asgardian   \n",
      "416         416           Luke Cage    Male     brown              Human   \n",
      "422         422         Machine Man       -       red                  -   \n",
      "428         428           Man-Thing    Male       red                  -   \n",
      "463         463               MODOK    Male     white             Cyborg   \n",
      "467         467          Molten Man    Male      gold                  -   \n",
      "498         498                Odin    Male      blue      God / Eternal   \n",
      "500         500           Omega Red    Male       red                  -   \n",
      "504         504           Onslaught    Male       red             Mutant   \n",
      "527         527            Predator    Male         -             Yautja   \n",
      "549         549            Red Hulk    Male    yellow  Human / Radiation   \n",
      "558         558               Rhino    Male     brown  Human / Radiation   \n",
      "574         574             Sandman    Male     brown              Human   \n",
      "575         575           Sasquatch    Male       red                  -   \n",
      "583         583            Scorpion    Male     brown              Human   \n",
      "591         591            She-Hulk  Female     green              Human   \n",
      "596         596                 Sif  Female      blue          Asgardian   \n",
      "611         611      Solomon Grundy    Male     black             Zombie   \n",
      "614         614               Spawn    Male     brown              Demon   \n",
      "653         653               T-850    Male       red             Cyborg   \n",
      "657         657              Thanos    Male       red            Eternal   \n",
      "660         660               Thing    Male      blue  Human / Radiation   \n",
      "661         661                Thor    Male      blue          Asgardian   \n",
      "666         666       Thunderstrike    Male      blue                  -   \n",
      "668         668         Tiger Shark    Male      grey              Human   \n",
      "682         682              Ultron    Male       red            Android   \n",
      "686         686            Valkyrie  Female      blue                  -   \n",
      "691         691           Venom III    Male     brown           Symbiote   \n",
      "718         718           Wolfsbane  Female     green                  -   \n",
      "\n",
      "    Hair color  Height          Publisher  Skin color Alignment  Weight  \n",
      "0      No Hair   203.0      Marvel Comics           -      good   441.0  \n",
      "3      No Hair   203.0      Marvel Comics           -       bad   441.0  \n",
      "33       Blond   229.0      Marvel Comics           -         -   358.0  \n",
      "42       Brown   185.0      Marvel Comics           -      good   270.0  \n",
      "78     No Hair   201.0      Marvel Comics           -      good   216.0  \n",
      "118      Brown   178.0      Marvel Comics           -       bad   230.0  \n",
      "119      Brown   218.0      Marvel Comics           -       bad   495.0  \n",
      "184      Black   226.0      Marvel Comics           -      good   225.0  \n",
      "203    No Hair   267.0          DC Comics        grey       bad   817.0  \n",
      "217          -   188.0      Marvel Comics           -       bad   383.0  \n",
      "229      White   244.0          DC Comics           -       bad   412.0  \n",
      "233    No Hair   193.0      Marvel Comics       green      good   306.0  \n",
      "245    No Hair   193.0          DC Comics      yellow   neutral   203.0  \n",
      "283        Red    62.5          DC Comics           -       bad   630.0  \n",
      "284       Blue   198.0      Marvel Comics      purple   neutral   268.0  \n",
      "293      Black   198.0          DC Comics           -       bad   270.0  \n",
      "320      Black   213.0      Marvel Comics           -       bad   225.0  \n",
      "331      Green   244.0      Marvel Comics       green      good   630.0  \n",
      "337        Red   183.0      Marvel Comics           -      good   207.0  \n",
      "345      Black   198.0      Marvel Comics           -      good   191.0  \n",
      "373        Red   287.0      Marvel Comics           -   neutral   855.0  \n",
      "386    No Hair   244.0          DC Comics       green       bad   356.0  \n",
      "388    No Hair   234.0          DC Comics        pink      good   324.0  \n",
      "391    No Hair   201.0      Marvel Comics           -       bad   203.0  \n",
      "409          -   198.0      Marvel Comics           -       bad   360.0  \n",
      "412    No Hair   203.0      Marvel Comics           -       bad   230.0  \n",
      "413      Black   229.0          DC Comics  blue-white   neutral   288.0  \n",
      "414      Black   193.0      Marvel Comics           -       bad   236.0  \n",
      "416      Black   198.0      Marvel Comics           -      good   191.0  \n",
      "422      Black   183.0      Marvel Comics           -      good   383.0  \n",
      "428    No Hair   213.0      Marvel Comics       green      good   225.0  \n",
      "463     Brownn   366.0      Marvel Comics           -       bad   338.0  \n",
      "467       Gold   196.0      Marvel Comics           -       bad   248.0  \n",
      "498      White   206.0      Marvel Comics           -      good   293.0  \n",
      "500      Blond   211.0      Marvel Comics           -       bad   191.0  \n",
      "504    No Hair   305.0      Marvel Comics           -       bad   405.0  \n",
      "527          -   213.0  Dark Horse Comics           -       bad   234.0  \n",
      "549      Black   213.0      Marvel Comics         red   neutral   630.0  \n",
      "558      Brown   196.0      Marvel Comics           -       bad   320.0  \n",
      "574      Brown   185.0      Marvel Comics           -   neutral   203.0  \n",
      "575     Orange   305.0      Marvel Comics           -      good   900.0  \n",
      "583      Brown   211.0      Marvel Comics           -       bad   310.0  \n",
      "591      Green   201.0      Marvel Comics           -      good   315.0  \n",
      "596      Black   188.0      Marvel Comics           -      good   191.0  \n",
      "611      White   279.0          DC Comics           -       bad   437.0  \n",
      "614      Black   211.0       Image Comics           -      good   405.0  \n",
      "653          -   -99.0  Dark Horse Comics           -       bad   198.0  \n",
      "657    No Hair   201.0      Marvel Comics      purple       bad   443.0  \n",
      "660    No Hair   183.0      Marvel Comics           -      good   225.0  \n",
      "661      Blond   198.0      Marvel Comics           -      good   288.0  \n",
      "666      Blond   198.0      Marvel Comics           -      good   288.0  \n",
      "668    No Hair   185.0      Marvel Comics        grey       bad   203.0  \n",
      "682          -   206.0      Marvel Comics      silver       bad   331.0  \n",
      "686      Blond   191.0      Marvel Comics           -      good   214.0  \n",
      "691      Brown   229.0      Marvel Comics           -       bad   334.0  \n",
      "718     Auburn   366.0      Marvel Comics           -      good   473.0  \n"
     ]
    }
   ],
   "source": [
    "greater_weight = heros.loc[heros['Weight'] > 190]\n",
    "\n",
    "print(\"Characters that are taller than 190:\")\n",
    "print(greater_weight)"
   ]
  },
  {
   "cell_type": "code",
   "execution_count": 67,
   "metadata": {},
   "outputs": [
    {
     "data": {
      "text/html": [
       "<div>\n",
       "<style scoped>\n",
       "    .dataframe tbody tr th:only-of-type {\n",
       "        vertical-align: middle;\n",
       "    }\n",
       "\n",
       "    .dataframe tbody tr th {\n",
       "        vertical-align: top;\n",
       "    }\n",
       "\n",
       "    .dataframe thead th {\n",
       "        text-align: right;\n",
       "    }\n",
       "</style>\n",
       "<table border=\"1\" class=\"dataframe\">\n",
       "  <thead>\n",
       "    <tr style=\"text-align: right;\">\n",
       "      <th></th>\n",
       "      <th>Unnamed: 0</th>\n",
       "      <th>name</th>\n",
       "      <th>Gender</th>\n",
       "      <th>Eye color</th>\n",
       "      <th>Race</th>\n",
       "      <th>Hair color</th>\n",
       "      <th>Height</th>\n",
       "      <th>Publisher</th>\n",
       "      <th>Skin color</th>\n",
       "      <th>Alignment</th>\n",
       "      <th>Weight</th>\n",
       "    </tr>\n",
       "  </thead>\n",
       "  <tbody>\n",
       "    <tr>\n",
       "      <th>0</th>\n",
       "      <td>0</td>\n",
       "      <td>A-Bomb</td>\n",
       "      <td>Male</td>\n",
       "      <td>yellow</td>\n",
       "      <td>Human</td>\n",
       "      <td>No Hair</td>\n",
       "      <td>203.0</td>\n",
       "      <td>Marvel Comics</td>\n",
       "      <td>-</td>\n",
       "      <td>good</td>\n",
       "      <td>441.0</td>\n",
       "    </tr>\n",
       "    <tr>\n",
       "      <th>1</th>\n",
       "      <td>1</td>\n",
       "      <td>Abe Sapien</td>\n",
       "      <td>Male</td>\n",
       "      <td>blue</td>\n",
       "      <td>Icthyo Sapien</td>\n",
       "      <td>No Hair</td>\n",
       "      <td>191.0</td>\n",
       "      <td>Dark Horse Comics</td>\n",
       "      <td>blue</td>\n",
       "      <td>good</td>\n",
       "      <td>65.0</td>\n",
       "    </tr>\n",
       "    <tr>\n",
       "      <th>2</th>\n",
       "      <td>2</td>\n",
       "      <td>Abin Sur</td>\n",
       "      <td>Male</td>\n",
       "      <td>blue</td>\n",
       "      <td>Ungaran</td>\n",
       "      <td>No Hair</td>\n",
       "      <td>185.0</td>\n",
       "      <td>DC Comics</td>\n",
       "      <td>red</td>\n",
       "      <td>good</td>\n",
       "      <td>90.0</td>\n",
       "    </tr>\n",
       "    <tr>\n",
       "      <th>3</th>\n",
       "      <td>3</td>\n",
       "      <td>Abomination</td>\n",
       "      <td>Male</td>\n",
       "      <td>green</td>\n",
       "      <td>Human / Radiation</td>\n",
       "      <td>No Hair</td>\n",
       "      <td>203.0</td>\n",
       "      <td>Marvel Comics</td>\n",
       "      <td>-</td>\n",
       "      <td>bad</td>\n",
       "      <td>441.0</td>\n",
       "    </tr>\n",
       "    <tr>\n",
       "      <th>4</th>\n",
       "      <td>4</td>\n",
       "      <td>Abraxas</td>\n",
       "      <td>Male</td>\n",
       "      <td>blue</td>\n",
       "      <td>Cosmic Entity</td>\n",
       "      <td>Black</td>\n",
       "      <td>-99.0</td>\n",
       "      <td>Marvel Comics</td>\n",
       "      <td>-</td>\n",
       "      <td>bad</td>\n",
       "      <td>-99.0</td>\n",
       "    </tr>\n",
       "    <tr>\n",
       "      <th>...</th>\n",
       "      <td>...</td>\n",
       "      <td>...</td>\n",
       "      <td>...</td>\n",
       "      <td>...</td>\n",
       "      <td>...</td>\n",
       "      <td>...</td>\n",
       "      <td>...</td>\n",
       "      <td>...</td>\n",
       "      <td>...</td>\n",
       "      <td>...</td>\n",
       "      <td>...</td>\n",
       "    </tr>\n",
       "    <tr>\n",
       "      <th>729</th>\n",
       "      <td>729</td>\n",
       "      <td>Yellowjacket II</td>\n",
       "      <td>Female</td>\n",
       "      <td>blue</td>\n",
       "      <td>Human</td>\n",
       "      <td>Strawberry Blond</td>\n",
       "      <td>165.0</td>\n",
       "      <td>Marvel Comics</td>\n",
       "      <td>-</td>\n",
       "      <td>good</td>\n",
       "      <td>52.0</td>\n",
       "    </tr>\n",
       "    <tr>\n",
       "      <th>730</th>\n",
       "      <td>730</td>\n",
       "      <td>Ymir</td>\n",
       "      <td>Male</td>\n",
       "      <td>white</td>\n",
       "      <td>Frost Giant</td>\n",
       "      <td>No Hair</td>\n",
       "      <td>304.8</td>\n",
       "      <td>Marvel Comics</td>\n",
       "      <td>white</td>\n",
       "      <td>good</td>\n",
       "      <td>-99.0</td>\n",
       "    </tr>\n",
       "    <tr>\n",
       "      <th>731</th>\n",
       "      <td>731</td>\n",
       "      <td>Yoda</td>\n",
       "      <td>Male</td>\n",
       "      <td>brown</td>\n",
       "      <td>Yoda's species</td>\n",
       "      <td>White</td>\n",
       "      <td>66.0</td>\n",
       "      <td>George Lucas</td>\n",
       "      <td>green</td>\n",
       "      <td>good</td>\n",
       "      <td>17.0</td>\n",
       "    </tr>\n",
       "    <tr>\n",
       "      <th>732</th>\n",
       "      <td>732</td>\n",
       "      <td>Zatanna</td>\n",
       "      <td>Female</td>\n",
       "      <td>blue</td>\n",
       "      <td>Human</td>\n",
       "      <td>Black</td>\n",
       "      <td>170.0</td>\n",
       "      <td>DC Comics</td>\n",
       "      <td>-</td>\n",
       "      <td>good</td>\n",
       "      <td>57.0</td>\n",
       "    </tr>\n",
       "    <tr>\n",
       "      <th>733</th>\n",
       "      <td>733</td>\n",
       "      <td>Zoom</td>\n",
       "      <td>Male</td>\n",
       "      <td>red</td>\n",
       "      <td>other</td>\n",
       "      <td>Brown</td>\n",
       "      <td>185.0</td>\n",
       "      <td>DC Comics</td>\n",
       "      <td>-</td>\n",
       "      <td>bad</td>\n",
       "      <td>81.0</td>\n",
       "    </tr>\n",
       "  </tbody>\n",
       "</table>\n",
       "<p>734 rows × 11 columns</p>\n",
       "</div>"
      ],
      "text/plain": [
       "     Unnamed: 0             name  Gender Eye color               Race  \\\n",
       "0             0           A-Bomb    Male    yellow              Human   \n",
       "1             1       Abe Sapien    Male      blue      Icthyo Sapien   \n",
       "2             2         Abin Sur    Male      blue            Ungaran   \n",
       "3             3      Abomination    Male     green  Human / Radiation   \n",
       "4             4          Abraxas    Male      blue      Cosmic Entity   \n",
       "..          ...              ...     ...       ...                ...   \n",
       "729         729  Yellowjacket II  Female      blue              Human   \n",
       "730         730             Ymir    Male     white        Frost Giant   \n",
       "731         731             Yoda    Male     brown     Yoda's species   \n",
       "732         732          Zatanna  Female      blue              Human   \n",
       "733         733             Zoom    Male       red              other   \n",
       "\n",
       "           Hair color  Height          Publisher Skin color Alignment  Weight  \n",
       "0             No Hair   203.0      Marvel Comics          -      good   441.0  \n",
       "1             No Hair   191.0  Dark Horse Comics       blue      good    65.0  \n",
       "2             No Hair   185.0          DC Comics        red      good    90.0  \n",
       "3             No Hair   203.0      Marvel Comics          -       bad   441.0  \n",
       "4               Black   -99.0      Marvel Comics          -       bad   -99.0  \n",
       "..                ...     ...                ...        ...       ...     ...  \n",
       "729  Strawberry Blond   165.0      Marvel Comics          -      good    52.0  \n",
       "730           No Hair   304.8      Marvel Comics      white      good   -99.0  \n",
       "731             White    66.0       George Lucas      green      good    17.0  \n",
       "732             Black   170.0          DC Comics          -      good    57.0  \n",
       "733             Brown   185.0          DC Comics          -       bad    81.0  \n",
       "\n",
       "[734 rows x 11 columns]"
      ]
     },
     "execution_count": 67,
     "metadata": {},
     "output_type": "execute_result"
    }
   ],
   "source": [
    "heros['Race'] = heros['Race'].replace('-', 'other')\n",
    "heros"
   ]
  },
  {
   "cell_type": "markdown",
   "metadata": {},
   "source": [
    "Getting the count for the publishers"
   ]
  },
  {
   "cell_type": "code",
   "execution_count": 68,
   "metadata": {},
   "outputs": [
    {
     "name": "stdout",
     "output_type": "stream",
     "text": [
      "Number of heroes per publisher:\\, Publisher\n",
      "Marvel Comics        388\n",
      "DC Comics            215\n",
      "NBC - Heroes          19\n",
      "Dark Horse Comics     18\n",
      "George Lucas          14\n",
      "Image Comics          14\n",
      "Star Trek              6\n",
      "HarperCollins          6\n",
      "SyFy                   5\n",
      "Team Epic TV           5\n",
      "Icon Comics            4\n",
      "ABC Studios            4\n",
      "IDW Publishing         4\n",
      "Shueisha               4\n",
      "Wildstorm              3\n",
      "Sony Pictures          2\n",
      "Hanna-Barbera          1\n",
      "South Park             1\n",
      "Universal Studios      1\n",
      "J. K. Rowling          1\n",
      "Titan Books            1\n",
      "Rebellion              1\n",
      "Microsoft              1\n",
      "J. R. R. Tolkien       1\n",
      "Name: count, dtype: int64\n"
     ]
    },
    {
     "name": "stderr",
     "output_type": "stream",
     "text": [
      "<>:2: SyntaxWarning: invalid escape sequence '\\,'\n",
      "<>:2: SyntaxWarning: invalid escape sequence '\\,'\n",
      "C:\\Users\\Jake Guerrero\\AppData\\Local\\Temp\\ipykernel_5380\\3906509564.py:2: SyntaxWarning: invalid escape sequence '\\,'\n",
      "  print(\"Number of heroes per publisher:\\,\", publisher_count)\n"
     ]
    }
   ],
   "source": [
    "publisher_count = heros['Publisher'].value_counts()\n",
    "print(\"Number of heroes per publisher:\\,\", publisher_count)"
   ]
  },
  {
   "cell_type": "markdown",
   "metadata": {},
   "source": [
    "Looking at the unique races in every comic book publisher listed and getting a count for those races."
   ]
  },
  {
   "cell_type": "code",
   "execution_count": 69,
   "metadata": {},
   "outputs": [
    {
     "name": "stdout",
     "output_type": "stream",
     "text": [
      "Unique races: ['Human' 'Icthyo Sapien' 'Ungaran' 'Human / Radiation' 'Cosmic Entity'\n",
      " 'other' 'Cyborg' 'Xenomorph XX121' 'Android' 'Vampire' 'Mutant'\n",
      " 'God / Eternal' 'Symbiote' 'Atlantean' 'Alien' 'Neyaphem' 'New God'\n",
      " 'Alpha' 'Bizarro' 'Inhuman' 'Metahuman' 'Demon' 'Human / Clone'\n",
      " 'Human-Kree' 'Dathomirian Zabrak' 'Amazon' 'Human / Cosmic'\n",
      " 'Human / Altered' 'Kryptonian' 'Kakarantharaian' 'Zen-Whoberian'\n",
      " 'Strontian' 'Kaiju' 'Saiyan' 'Gorilla' 'Rodian' 'Flora Colossus'\n",
      " 'Human-Vuldarian' 'Asgardian' 'Demi-God' 'Eternal' 'Gungan' 'Bolovaxian'\n",
      " 'Animal' 'Czarnian' 'Martian' 'Spartoi' 'Planet' 'Luphomoid' 'Parademon'\n",
      " 'Yautja' 'Maiar' 'Clone' 'Talokite' 'Korugaran' 'Zombie' 'Human-Vulcan'\n",
      " 'Human-Spartoi' 'Tamaranean' 'Frost Giant' 'Mutant / Clone'\n",
      " \"Yoda's species\"]\n"
     ]
    }
   ],
   "source": [
    "unique_races = heros['Race'].unique()\n",
    "\n",
    "print(\"Unique races:\", unique_races)"
   ]
  },
  {
   "cell_type": "code",
   "execution_count": 82,
   "metadata": {},
   "outputs": [
    {
     "name": "stdout",
     "output_type": "stream",
     "text": [
      "Total number of unique races: 62\n"
     ]
    }
   ],
   "source": [
    "race_counts = heros['Race'].nunique()\n",
    "print(\"Total number of unique races:\", race_counts)"
   ]
  },
  {
   "cell_type": "code",
   "execution_count": 81,
   "metadata": {},
   "outputs": [
    {
     "name": "stdout",
     "output_type": "stream",
     "text": [
      "The top 5 races:\n",
      "Race\n",
      "other                304\n",
      "Human                208\n",
      "Mutant                63\n",
      "God / Eternal         14\n",
      "Human / Radiation     11\n",
      "Name: count, dtype: int64\n"
     ]
    }
   ],
   "source": [
    "top_races = race_counts\n",
    "print(\"The top 5 races:\")\n",
    "print(top_races)"
   ]
  },
  {
   "cell_type": "markdown",
   "metadata": {},
   "source": [
    "Finding the total counts for every person who is either good, bad or neither."
   ]
  },
  {
   "cell_type": "code",
   "execution_count": 72,
   "metadata": {},
   "outputs": [
    {
     "name": "stdout",
     "output_type": "stream",
     "text": [
      "Counts of each aligment if the character is either good, bad or neutral:\n",
      "Alignment\n",
      "good       496\n",
      "bad        207\n",
      "neutral     24\n",
      "-            7\n",
      "Name: count, dtype: int64\n"
     ]
    }
   ],
   "source": [
    "counts = heros['Alignment'].value_counts()\n",
    "\n",
    "print(\"Counts of each aligment if the character is either good, bad or neutral:\")\n",
    "print(counts)"
   ]
  },
  {
   "cell_type": "markdown",
   "metadata": {},
   "source": [
    "Have to change the - mark to \"other\"."
   ]
  },
  {
   "cell_type": "code",
   "execution_count": 73,
   "metadata": {},
   "outputs": [
    {
     "name": "stderr",
     "output_type": "stream",
     "text": [
      "C:\\Users\\Jake Guerrero\\AppData\\Local\\Temp\\ipykernel_5380\\834139256.py:1: FutureWarning: Series.replace without 'value' and with non-dict-like 'to_replace' is deprecated and will raise in a future version. Explicitly specify the new values instead.\n",
      "  heros['Alignment'] = heros['Alignment'].replace({'-', 'other'})\n"
     ]
    }
   ],
   "source": [
    "heros['Alignment'] = heros['Alignment'].replace({'-', 'other'})"
   ]
  },
  {
   "cell_type": "code",
   "execution_count": 74,
   "metadata": {},
   "outputs": [],
   "source": [
    "race_counts_series = pd.Series(race_counts)\n",
    "\n",
    "race_counts_race = pd.DataFrame({'Race': race_counts_series})"
   ]
  },
  {
   "cell_type": "code",
   "execution_count": 75,
   "metadata": {},
   "outputs": [],
   "source": [
    "race_counts = heros['Race'].value_counts()\n",
    "top_races = race_counts.head(5)"
   ]
  },
  {
   "cell_type": "markdown",
   "metadata": {},
   "source": [
    "Making the graphs for the characters alignment, race and the publishers."
   ]
  },
  {
   "cell_type": "code",
   "execution_count": 76,
   "metadata": {},
   "outputs": [
    {
     "data": {
      "image/png": "[encoded data removed]",
      "text/plain": [
       "<Figure size 1000x600 with 1 Axes>"
      ]
     },
     "metadata": {},
     "output_type": "display_data"
    }
   ],
   "source": [
    "counts = heros['Alignment'].value_counts()\n",
    "\n",
    "plt.figure(figsize=(10, 6))\n",
    "counts.plot(kind='bar', color=['blue', 'green', 'red'])\n",
    "plt.title('Alignment for Comic Book Character')\n",
    "plt.xlabel('Alignment')\n",
    "plt.ylabel('Number of Heros/Villians')\n",
    "plt.xticks(rotation=45)\n",
    "plt.grid(axis='y', linestyle='--', alpha=0.7)\n",
    "plt.tight_layout()\n",
    "plt.show()"
   ]
  },
  {
   "cell_type": "code",
   "execution_count": 77,
   "metadata": {},
   "outputs": [
    {
     "data": {
      "image/png": "[encoded data removed]",
      "text/plain": [
       "<Figure size 1000x600 with 1 Axes>"
      ]
     },
     "metadata": {},
     "output_type": "display_data"
    }
   ],
   "source": [
    "top_races = race_counts.head(5)\n",
    "plt.figure(figsize=(10, 6))\n",
    "top_races.plot(kind='bar', color='skyblue')\n",
    "plt.title('Top 5 Races by Count')\n",
    "plt.xlabel('Race')\n",
    "plt.ylabel('Count')\n",
    "plt.xticks(rotation=45)\n",
    "plt.grid(axis='y', linestyle='--', alpha=0.7)\n",
    "plt.show()"
   ]
  },
  {
   "cell_type": "code",
   "execution_count": 78,
   "metadata": {},
   "outputs": [
    {
     "data": {
      "image/png": "[encoded data removed]",
      "text/plain": [
       "<Figure size 800x800 with 1 Axes>"
      ]
     },
     "metadata": {},
     "output_type": "display_data"
    }
   ],
   "source": [
    "publisher_count = heros['Publisher'].value_counts()\n",
    "top_publishers = publisher_count.head(5)\n",
    "plt.figure(figsize=(8, 8))\n",
    "plt.pie(top_publishers, \n",
    "        labels=top_publishers.index, \n",
    "        autopct='%1.1f%%', \n",
    "        colors=plt.cm.Paired(range(len(top_publishers))),\n",
    "        wedgeprops=dict(width=0.3))\n",
    "plt.title('Top 5 Publishers by Number of Heroes')\n",
    "plt.show()"
   ]
  },
  {
   "cell_type": "markdown",
   "metadata": {},
   "source": [
    "Since there are so many publishers in the data, I decided to just grab the top five publishers and put them into this graph. If all publishers were in the graph, then every named publisher would make it extraordinary difficult to look at."
   ]
  }
 ],
 "metadata": {
  "kernelspec": {
   "display_name": "Python 3",
   "language": "python",
   "name": "python3"
  },
  "language_info": {
   "codemirror_mode": {
    "name": "ipython",
    "version": 3
   },
   "file_extension": ".py",
   "mimetype": "text/x-python",
   "name": "python",
   "nbconvert_exporter": "python",
   "pygments_lexer": "ipython3",
   "version": "3.12.2"
  }
 },
 "nbformat": 4,
 "nbformat_minor": 2
}
